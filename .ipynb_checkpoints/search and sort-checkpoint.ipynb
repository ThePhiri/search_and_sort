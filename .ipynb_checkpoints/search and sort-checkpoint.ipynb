{
 "cells": [
  {
   "cell_type": "code",
   "execution_count": 23,
   "metadata": {},
   "outputs": [],
   "source": [
    "from numpy.random import seed\n",
    "from numpy.random import randint\n",
    "seed(31)\n",
    "import time\n",
    "from merge_sort import merge_sort"
   ]
  },
  {
   "cell_type": "markdown",
   "metadata": {},
   "source": [
    "#### 1. perform a binary search:<br>\n",
    "a) \tWhat sequence of 'middle' values are compared to the target when performing a binary search with target doughnut?  \n",
    "b)\tWhat sequence of 'middle' values are compared to the target when performing a binary search with target tiramisu?  "
   ]
  },
  {
   "cell_type": "code",
   "execution_count": 1,
   "metadata": {},
   "outputs": [
    {
     "name": "stdout",
     "output_type": "stream",
     "text": [
      "True\n"
     ]
    }
   ],
   "source": [
    "#binary_search\n",
    "def bin_search(search_list, term):\n",
    "    first = 0\n",
    "    last = len(search_list) - 1\n",
    "    found = False\n",
    "    \n",
    "    while found == False and first<=last:\n",
    "        if len(search_list) == 0:\n",
    "            print(\"Please enter a list with atleast 1 item\")\n",
    "        elif len(search_list) > 0:\n",
    "            mid = ((first + last)//2)\n",
    "            if search_list[mid] == term:\n",
    "                found = True\n",
    "            else:\n",
    "                if term < search_list[mid]:\n",
    "                    last = mid-1\n",
    "                else:\n",
    "                    first = mid+1\n",
    "\n",
    "    return found\n",
    "sorted_list = ['babka', 'baklava', 'cheesecake', 'cupcake', 'danish', 'eclair', 'funnelcake', 'kringle', \n",
    "         'lamington', 'profiterole', 'sopaipilla', 'strudel', 'tiramisu', 'torte', 'turnover']\n",
    "print(bin_search(sorted_list, 'tiramisu'))"
   ]
  },
  {
   "cell_type": "markdown",
   "metadata": {},
   "source": [
    "#### a) \n",
    "    -[7] kringle\n",
    "    -[3] cupcake\n",
    "    -[5] eclair\n",
    "    -[4] danish\n",
    "\n",
    "####  b)\t\n",
    "    -[7] kringle\n",
    "    -[11] strudel\n",
    "    -[13] torte\n",
    "    -[12] tiramisu"
   ]
  },
  {
   "cell_type": "markdown",
   "metadata": {},
   "source": [
    "#### 2. For the list below,\n",
    "a) show the series of steps taken by the Bubble Sort algorithm while sorting this list.\n",
    "b) show the series of steps taken by the Selection Sort algorithm while sorting this list.\n",
    "bubble = [9,20, 6, 10, 14, 8,60,11]"
   ]
  },
  {
   "cell_type": "code",
   "execution_count": 2,
   "metadata": {},
   "outputs": [
    {
     "name": "stdout",
     "output_type": "stream",
     "text": [
      "[9, 6, 20, 10, 14, 8, 60, 11]\n",
      "[9, 6, 10, 20, 14, 8, 60, 11]\n",
      "[9, 6, 10, 14, 20, 8, 60, 11]\n",
      "[9, 6, 10, 14, 8, 20, 60, 11]\n",
      "[9, 6, 10, 14, 8, 20, 11, 60]\n",
      "[6, 9, 10, 14, 8, 20, 11, 60]\n",
      "[6, 9, 10, 8, 14, 20, 11, 60]\n",
      "[6, 9, 10, 8, 14, 11, 20, 60]\n",
      "[6, 9, 8, 10, 14, 11, 20, 60]\n",
      "[6, 9, 8, 10, 11, 14, 20, 60]\n",
      "[6, 8, 9, 10, 11, 14, 20, 60]\n"
     ]
    }
   ],
   "source": [
    "#bubble sort\n",
    "def bubble_sort(unsorted_list):\n",
    "    for passnum in range(len(unsorted_list)-1,0,-1):\n",
    "        for i in range(passnum):\n",
    "            if unsorted_list[i]>unsorted_list[i+1]:\n",
    "                temp = unsorted_list[i]\n",
    "                unsorted_list[i] = unsorted_list[i+1]\n",
    "                unsorted_list[i+1] = temp\n",
    "                print(unsorted_list)\n",
    "bubble = [9,20, 6, 10, 14, 8,60,11]\n",
    "bubble_sort(bubble)"
   ]
  },
  {
   "cell_type": "markdown",
   "metadata": {},
   "source": [
    "b) show the series of steps taken by the Selection Sort algorithm while sorting this list."
   ]
  },
  {
   "cell_type": "code",
   "execution_count": 3,
   "metadata": {},
   "outputs": [
    {
     "name": "stdout",
     "output_type": "stream",
     "text": [
      "[9, 20, 6, 10, 14, 8, 11, 60]\n",
      "[9, 11, 6, 10, 14, 8, 20, 60]\n",
      "[9, 11, 6, 10, 8, 14, 20, 60]\n",
      "[9, 8, 6, 10, 11, 14, 20, 60]\n",
      "[9, 8, 6, 10, 11, 14, 20, 60]\n",
      "[6, 8, 9, 10, 11, 14, 20, 60]\n",
      "[6, 8, 9, 10, 11, 14, 20, 60]\n"
     ]
    }
   ],
   "source": [
    "#selection sort\n",
    "def selection_sort(unsorted_list):\n",
    "   for fillslot in range(len(unsorted_list)-1,0,-1):\n",
    "       max_pos=0\n",
    "       for location in range(1,fillslot+1):\n",
    "           if unsorted_list[location]>unsorted_list[max_pos]:\n",
    "               max_pos = location\n",
    "\n",
    "       temp = unsorted_list[fillslot]\n",
    "       unsorted_list[fillslot] = unsorted_list[max_pos]\n",
    "       unsorted_list[max_pos] = temp\n",
    "       print(unsorted_list)\n",
    "selection= [9,20, 6, 10, 14, 8,60,11]\n",
    "selection_sort(selection)"
   ]
  },
  {
   "cell_type": "markdown",
   "metadata": {},
   "source": [
    "#### 3. The three search algorithms have varying run times, with the unsorted sequential search being the least efficient and the binary search being the most efficient (among the three).<br>\n",
    "\n",
    "a) Modify the code for the seq_search.py (for unsorted lists), seq_search_ordered.py and binary_search.py to count the number of elements checked during the search.<br>\n",
    "b) Using your instrumented code for the three search algorithms, perform the following searches, and report the number of elements checked by each algorithm for each search (i.e. you will report nine results in total - for each of the 3 searches below, you will report the results from the 3 different search algorithms)."
   ]
  },
  {
   "cell_type": "code",
   "execution_count": 4,
   "metadata": {},
   "outputs": [
    {
     "name": "stdout",
     "output_type": "stream",
     "text": [
      "4 elements checked\n",
      "True\n",
      "7 elements checked\n",
      "False\n"
     ]
    }
   ],
   "source": [
    "def linear_search(values, search_for):\n",
    "    search_at = 0\n",
    "    search_res = False\n",
    "    count = 0\n",
    "\n",
    "# Match the value with each data element\n",
    "    while search_at < len(values) and search_res is False:\n",
    "        if values[search_at] == search_for:\n",
    "            search_res = True\n",
    "        else:\n",
    "            search_at = search_at + 1\n",
    "        count += 1\n",
    "    print(count , \"elements checked\")\n",
    "\n",
    "    return search_res\n",
    "list = [64, 34, 25, 12, 22, 11, 90]\n",
    "print(linear_search(list, 12)) #should return True\n",
    "print(linear_search(list, 91)) #should return False"
   ]
  },
  {
   "cell_type": "code",
   "execution_count": 5,
   "metadata": {},
   "outputs": [
    {
     "name": "stdout",
     "output_type": "stream",
     "text": [
      "4 elements checked\n",
      "False\n",
      "5 elements checked\n",
      "True\n"
     ]
    }
   ],
   "source": [
    "def orderedSequentialSearch(alist, item):\n",
    "    pos = 0\n",
    "    found = False\n",
    "    stop = False\n",
    "    count = 0\n",
    "\n",
    "    while pos < len(alist) and not found and not stop:\n",
    "        if alist[pos] == item:\n",
    "            found = True\n",
    "        else:\n",
    "            if alist[pos] > item:\n",
    "                stop = True\n",
    "            else:\n",
    "                pos = pos+1\n",
    "        count += 1\n",
    "    print(count , \"elements checked\")\n",
    "    return found\n",
    "\n",
    "testlist = [0, 1, 2, 8, 13, 17, 19, 32, 42,]\n",
    "print(orderedSequentialSearch(testlist, 3)) #return False\n",
    "print(orderedSequentialSearch(testlist, 13)) #return True"
   ]
  },
  {
   "cell_type": "code",
   "execution_count": 8,
   "metadata": {},
   "outputs": [
    {
     "name": "stdout",
     "output_type": "stream",
     "text": [
      "5\n",
      "3 elements checked\n",
      "Not in list\n"
     ]
    }
   ],
   "source": [
    "def bsearch(list, val):\n",
    "\n",
    "    list_size = len(list) - 1\n",
    "\n",
    "    idx0 = 0\n",
    "    idxn = list_size\n",
    "    count = 0\n",
    "# Find the middle most value\n",
    "\n",
    "    while idx0 <= idxn:\n",
    "        midval = (idx0 + idxn)// 2\n",
    "\n",
    "        if list[midval] == val:\n",
    "            return midval\n",
    "\n",
    "# Compare the value the middle most value\n",
    "        if val > list[midval]:\n",
    "            idx0 = midval + 1\n",
    "        else:\n",
    "            idxn = midval - 1\n",
    "        count += 1\n",
    "    print(count , \"elements checked\")\n",
    "\n",
    "    if idx0 > idxn:\n",
    "        return \"Not in list\"\n",
    "# Initialize the sorted list\n",
    "list = [2,7,19,34,53,72]\n",
    "\n",
    "# Print the search result\n",
    "print(bsearch(list,72)) #should return index 5\n",
    "print(bsearch(list,11)) #should return Not in list"
   ]
  },
  {
   "cell_type": "markdown",
   "metadata": {},
   "source": [
    "#### i. Search for the value 9 in the following array:  \n",
    "A = [6, 19, -3, 5, 12, 7, 21, -8, 25, 10, 0, 28, -6, 1, 33, 18, 9, 2, -13, 43]\n"
   ]
  },
  {
   "cell_type": "code",
   "execution_count": 12,
   "metadata": {},
   "outputs": [
    {
     "name": "stdout",
     "output_type": "stream",
     "text": [
      "17 elements checked\n",
      "True\n",
      "2 elements checked\n",
      "False\n",
      "4 elements checked\n",
      "Not in list\n"
     ]
    }
   ],
   "source": [
    "#linear search\n",
    "A = [6, 19, -3, 5, 12, 7, 21, -8, 25, 10, 0, 28, -6, 1, 33, 18, 9, 2, -13, 43]\n",
    "print(linear_search(A, 9))\n",
    "#ordered sequetial search\n",
    "print(orderedSequentialSearch(A, 9)) \n",
    "#binary search\n",
    "print(bsearch(A,9)) "
   ]
  },
  {
   "cell_type": "markdown",
   "metadata": {},
   "source": [
    "#### ii.  Search for the value 11 in the following array:  \n",
    "A = [6, 19, -3, 5, 12, 7, 21, -8, 25, 10, 0, 28, -6, 1, 33, 18, 9, 2, -13, 43]"
   ]
  },
  {
   "cell_type": "code",
   "execution_count": 13,
   "metadata": {},
   "outputs": [
    {
     "name": "stdout",
     "output_type": "stream",
     "text": [
      "20 elements checked\n",
      "False\n",
      "2 elements checked\n",
      "False\n",
      "4 elements checked\n",
      "Not in list\n"
     ]
    }
   ],
   "source": [
    "#linear search\n",
    "A = [6, 19, -3, 5, 12, 7, 21, -8, 25, 10, 0, 28, -6, 1, 33, 18, 9, 2, -13, 43]\n",
    "print(linear_search(A, 11))\n",
    "#ordered sequetial search\n",
    "print(orderedSequentialSearch(A, 11)) \n",
    "#binary search\n",
    "print(bsearch(A,11)) "
   ]
  },
  {
   "cell_type": "markdown",
   "metadata": {},
   "source": [
    "#### iii. Search for the value 11 in the following array:  \n",
    "A = [6, 19, -3, 5, 12, 7, 21, -8, 25, 10, 0, 28, -6, 1, 33, 18, 9, 2, -13, 43, -15, 4, 22, 38, -5, 13, 23, -11, 29, -20, 41, 31, -23, 35, 40, 14, 8, -18, 16, 36]"
   ]
  },
  {
   "cell_type": "code",
   "execution_count": 14,
   "metadata": {},
   "outputs": [
    {
     "name": "stdout",
     "output_type": "stream",
     "text": [
      "40 elements checked\n",
      "False\n",
      "2 elements checked\n",
      "False\n",
      "5 elements checked\n",
      "Not in list\n"
     ]
    }
   ],
   "source": [
    "#linear search\n",
    "A = [6, 19, -3, 5, 12, 7, 21, -8, 25, 10, 0, 28, -6, 1, 33, 18, 9, 2, -13, 43, -15, 4, 22, 38, -5, 13, 23, -11, 29, -20, 41, 31, -23, 35, 40, 14, 8, -18, 16, 36]\n",
    "print(linear_search(A, 11))\n",
    "#ordered sequetial search\n",
    "print(orderedSequentialSearch(A, 11)) \n",
    "#binary search\n",
    "print(bsearch(A,11)) "
   ]
  },
  {
   "cell_type": "markdown",
   "metadata": {},
   "source": [
    "##### 4. Using a random number generator, create a list of 50 integers and a list of 1000 integers. Perform a benchmark analysis using merge sort, quick sort, bubble sort and selection sort (algorithm are given) on each of the lists. For each list, what is the difference in execution speed between the different sorting techniques?"
   ]
  },
  {
   "cell_type": "code",
   "execution_count": 19,
   "metadata": {},
   "outputs": [],
   "source": [
    "fifty_int = randint(0, 100, 50)\n",
    "thousand_int = randint(0, 100, 50)"
   ]
  },
  {
   "cell_type": "code",
   "execution_count": 27,
   "metadata": {},
   "outputs": [
    {
     "name": "stdout",
     "output_type": "stream",
     "text": [
      "29 elements checked\n",
      "50 intergers =  0.0008046627044677734\n",
      "50 elements checked\n",
      "50 intergers =  0.00029659271240234375\n"
     ]
    }
   ],
   "source": [
    "#mergesort benchmark\n",
    "start = time.time()\n",
    "linear_search(fifty_int, 7)\n",
    "end = time.time()\n",
    "total_time = end - start\n",
    "print(\"50 intergers = \", total_time)\n",
    "\n",
    "start = time.time()\n",
    "linear_search(thousand_int, 7)\n",
    "end = time.time()\n",
    "total_time = end - start\n",
    "\n",
    "print(\"50 intergers = \", total_time)"
   ]
  },
  {
   "cell_type": "code",
   "execution_count": null,
   "metadata": {},
   "outputs": [],
   "source": [
    "#quicksort benchmark\n"
   ]
  },
  {
   "cell_type": "code",
   "execution_count": null,
   "metadata": {},
   "outputs": [],
   "source": [
    "#bubblesort benchmark\n"
   ]
  },
  {
   "cell_type": "code",
   "execution_count": null,
   "metadata": {},
   "outputs": [],
   "source": [
    "#selectionsort benchmark\n"
   ]
  }
 ],
 "metadata": {
  "kernelspec": {
   "display_name": "Python 3",
   "language": "python",
   "name": "python3"
  },
  "language_info": {
   "codemirror_mode": {
    "name": "ipython",
    "version": 3
   },
   "file_extension": ".py",
   "mimetype": "text/x-python",
   "name": "python",
   "nbconvert_exporter": "python",
   "pygments_lexer": "ipython3",
   "version": "3.6.7"
  }
 },
 "nbformat": 4,
 "nbformat_minor": 2
}
