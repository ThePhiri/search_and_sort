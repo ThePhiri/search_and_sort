{
 "cells": [
  {
   "cell_type": "code",
   "execution_count": 21,
   "metadata": {},
   "outputs": [],
   "source": [
    "#Functions\n",
    "#binary_search\n",
    "def bin_search(search_list, term):\n",
    "    first = 0\n",
    "    last = len(search_list) - 1\n",
    "    found = False\n",
    "    \n",
    "    while found == False and first<=last:\n",
    "        if len(search_list) == 0:\n",
    "            print(\"Please enter a list with atleast 1 item\")\n",
    "        elif len(search_list) > 0:\n",
    "            mid = ((first + last)//2)\n",
    "            if search_list[mid] == term:\n",
    "                found = True\n",
    "            else:\n",
    "                if term < search_list[mid]:\n",
    "                    last = mid-1\n",
    "                else:\n",
    "                    first = mid+1\n",
    "\n",
    "    return found"
   ]
  },
  {
   "cell_type": "code",
   "execution_count": 24,
   "metadata": {},
   "outputs": [
    {
     "name": "stdout",
     "output_type": "stream",
     "text": [
      "False\n"
     ]
    }
   ],
   "source": [
    "alist = ['babka', 'baklava', 'cheesecake', 'cupcake', 'danish', 'eclair', 'funnelcake', 'kringle', \n",
    "         'lamington', 'profiterole', 'sopaipilla', 'strudel', 'tiramisu', 'torte', 'turnover']\n",
    "print(bin_search(alist, 'doughnut'))"
   ]
  },
  {
   "cell_type": "code",
   "execution_count": null,
   "metadata": {},
   "outputs": [],
   "source": []
  },
  {
   "cell_type": "code",
   "execution_count": null,
   "metadata": {},
   "outputs": [],
   "source": []
  }
 ],
 "metadata": {
  "kernelspec": {
   "display_name": "Python 3",
   "language": "python",
   "name": "python3"
  },
  "language_info": {
   "codemirror_mode": {
    "name": "ipython",
    "version": 3
   },
   "file_extension": ".py",
   "mimetype": "text/x-python",
   "name": "python",
   "nbconvert_exporter": "python",
   "pygments_lexer": "ipython3",
   "version": "3.6.7"
  }
 },
 "nbformat": 4,
 "nbformat_minor": 2
}
