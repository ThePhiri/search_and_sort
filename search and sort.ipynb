{
 "cells": [
  {
   "cell_type": "code",
   "execution_count": 30,
   "metadata": {},
   "outputs": [],
   "source": [
    "#All Functions\n",
    "#binary_search\n",
    "def bin_search(search_list, term):\n",
    "    first = 0\n",
    "    last = len(search_list) - 1\n",
    "    found = False\n",
    "    \n",
    "    while found == False and first<=last:\n",
    "        if len(search_list) == 0:\n",
    "            print(\"Please enter a list with atleast 1 item\")\n",
    "        elif len(search_list) > 0:\n",
    "            mid = ((first + last)//2)\n",
    "            if search_list[mid] == term:\n",
    "                found = True\n",
    "            else:\n",
    "                if term < search_list[mid]:\n",
    "                    last = mid-1\n",
    "                else:\n",
    "                    first = mid+1\n",
    "\n",
    "    return found\n",
    "\n",
    "#bubble sort\n",
    "def bubble_sort(unsorted_list):\n",
    "    for passnum in range(len(unsorted_list)-1,0,-1):\n",
    "        for i in range(passnum):\n",
    "            if unsorted_list[i]>unsorted_list[i+1]:\n",
    "                temp = unsorted_list[i]\n",
    "                unsorted_list[i] = unsorted_list[i+1]\n",
    "                unsorted_list[i+1] = temp\n",
    "                print(unsorted_list)\n",
    "\n",
    "                \n",
    "#selection sort\n",
    "def selection_sort(unsorted_list):\n",
    "   for fillslot in range(len(unsorted_list)-1,0,-1):\n",
    "       max_pos=0\n",
    "       for location in range(1,fillslot+1):\n",
    "           if unsorted_list[location]>unsorted_list[max_pos]:\n",
    "               max_pos = location\n",
    "\n",
    "       temp = unsorted_list[fillslot]\n",
    "       unsorted_list[fillslot] = unsorted_list[max_pos]\n",
    "       unsorted_list[max_pos] = temp\n",
    "       print(unsorted_list)"
   ]
  },
  {
   "cell_type": "markdown",
   "metadata": {},
   "source": [
    "#### a) \tWhat sequence of 'middle' values are compared to the target when performing a binary search with target doughnut?\n",
    "    -[7] kringle\n",
    "    -[3] cupcake\n",
    "    -[5] eclair\n",
    "    -[4] danish\n",
    "\n",
    "####  b)\tWhat sequence of 'middle' values are compared to the target when performing a binary search with target tiramisu?  \n",
    "    -[7] kringle\n",
    "    -[11] strudel\n",
    "    -[13] torte\n",
    "    -[12] tiramisu"
   ]
  },
  {
   "cell_type": "code",
   "execution_count": 24,
   "metadata": {},
   "outputs": [
    {
     "name": "stdout",
     "output_type": "stream",
     "text": [
      "True\n"
     ]
    }
   ],
   "source": [
    "sorted_list = ['babka', 'baklava', 'cheesecake', 'cupcake', 'danish', 'eclair', 'funnelcake', 'kringle', \n",
    "         'lamington', 'profiterole', 'sopaipilla', 'strudel', 'tiramisu', 'torte', 'turnover']\n",
    "print(bin_search(sorted_list, 'tiramisu'))"
   ]
  },
  {
   "cell_type": "markdown",
   "metadata": {},
   "source": [
    "#### For the list below,\n",
    "a) show the series of steps taken by the Bubble Sort algorithm while sorting this list.\n",
    "b) show the series of steps taken by the Selection Sort algorithm while sorting this list.\n",
    "bubble = [9,20, 6, 10, 14, 8,60,11]"
   ]
  },
  {
   "cell_type": "code",
   "execution_count": 26,
   "metadata": {},
   "outputs": [
    {
     "name": "stdout",
     "output_type": "stream",
     "text": [
      "[9, 6, 20, 10, 14, 8, 60, 11]\n",
      "[9, 6, 10, 20, 14, 8, 60, 11]\n",
      "[9, 6, 10, 14, 20, 8, 60, 11]\n",
      "[9, 6, 10, 14, 8, 20, 60, 11]\n",
      "[9, 6, 10, 14, 8, 20, 11, 60]\n",
      "[6, 9, 10, 14, 8, 20, 11, 60]\n",
      "[6, 9, 10, 8, 14, 20, 11, 60]\n",
      "[6, 9, 10, 8, 14, 11, 20, 60]\n",
      "[6, 9, 8, 10, 14, 11, 20, 60]\n",
      "[6, 9, 8, 10, 11, 14, 20, 60]\n",
      "[6, 8, 9, 10, 11, 14, 20, 60]\n"
     ]
    }
   ],
   "source": [
    "bubble = [9,20, 6, 10, 14, 8,60,11]\n",
    "bubble_sort(bubble)"
   ]
  },
  {
   "cell_type": "markdown",
   "metadata": {},
   "source": [
    "b) show the series of steps taken by the Selection Sort algorithm while sorting this list."
   ]
  },
  {
   "cell_type": "code",
   "execution_count": 31,
   "metadata": {},
   "outputs": [
    {
     "name": "stdout",
     "output_type": "stream",
     "text": [
      "[9, 20, 6, 10, 14, 8, 11, 60]\n",
      "[9, 11, 6, 10, 14, 8, 20, 60]\n",
      "[9, 11, 6, 10, 8, 14, 20, 60]\n",
      "[9, 8, 6, 10, 11, 14, 20, 60]\n",
      "[9, 8, 6, 10, 11, 14, 20, 60]\n",
      "[6, 8, 9, 10, 11, 14, 20, 60]\n",
      "[6, 8, 9, 10, 11, 14, 20, 60]\n"
     ]
    }
   ],
   "source": [
    "selection= [9,20, 6, 10, 14, 8,60,11]\n",
    "selection_sort(selection)"
   ]
  },
  {
   "cell_type": "code",
   "execution_count": null,
   "metadata": {},
   "outputs": [],
   "source": []
  }
 ],
 "metadata": {
  "kernelspec": {
   "display_name": "Python 3",
   "language": "python",
   "name": "python3"
  },
  "language_info": {
   "codemirror_mode": {
    "name": "ipython",
    "version": 3
   },
   "file_extension": ".py",
   "mimetype": "text/x-python",
   "name": "python",
   "nbconvert_exporter": "python",
   "pygments_lexer": "ipython3",
   "version": "3.6.7"
  }
 },
 "nbformat": 4,
 "nbformat_minor": 2
}
